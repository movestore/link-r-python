{
 "cells": [
  {
   "cell_type": "markdown",
   "source": [
    "# move2 CSV to movingpandas pickle\n",
    "\n",
    "This is a step-by-step walkthrough of `transform_to_pickle.py` (`move2`)"
   ],
   "metadata": {
    "collapsed": false
   },
   "id": "d251c1a4a38efb15"
  },
  {
   "cell_type": "code",
   "execution_count": null,
   "id": "initial_id",
   "metadata": {
    "collapsed": true
   },
   "outputs": [],
   "source": [
    "import pandas as pd\n",
    "import geopandas as gpd\n",
    "import movingpandas as mpd\n",
    "import pickle\n",
    "import hvplot.pandas\n",
    "import matplotlib.pyplot as plt"
   ]
  },
  {
   "cell_type": "markdown",
   "source": [
    "# Step 0: read and apply timezone\n",
    "1. read data CSV by pandas\n",
    "2. use projection and timezone from meta CSV\n",
    "3. create column `timestamp_tz` by applying timezone to column `timestamps` "
   ],
   "metadata": {
    "collapsed": false
   },
   "id": "aa72a1647baf3a2"
  },
  {
   "cell_type": "code",
   "outputs": [],
   "source": [
    "# see `meta.csv`\n",
    "projection = \"EPSG:4326\"\n",
    "timezone = \"UTC\"\n",
    "time_col_name = \"timestamp\"\n",
    "track_id_col_name = \"individual_name_deployment_id\"\n",
    "\n",
    "pandas = pd.read_csv('link.csv',parse_dates=[time_col_name])\n",
    "pandas['timestamp_tz'] = pandas[time_col_name].apply(lambda x: x.tz_localize(timezone))\n",
    "\n",
    "timestamps = pandas[[time_col_name, \"timestamp_tz\"]]\n",
    "timestamps.head()"
   ],
   "metadata": {
    "collapsed": false
   },
   "id": "78275c6fd8db409c",
   "execution_count": null
  },
  {
   "cell_type": "code",
   "outputs": [],
   "source": [
    "pandas.info()"
   ],
   "metadata": {
    "collapsed": false
   },
   "id": "24c20cf0c8fd9578",
   "execution_count": null
  },
  {
   "cell_type": "markdown",
   "source": [
    "# Step 1: movingpandas\n",
    "1. create movingpandas `TrajectoryCollection` from `pandas`"
   ],
   "metadata": {
    "collapsed": false
   },
   "id": "1aee59a08a2ee7e3"
  },
  {
   "cell_type": "code",
   "outputs": [],
   "source": [
    "movingpandas = mpd.TrajectoryCollection(\n",
    "            pandas,\n",
    "            traj_id_col=track_id_col_name, # from meta file\n",
    "            crs=projection,\n",
    "            t='timestamp_tz',  # use our converted timezone column\n",
    "            x='coords_x',\n",
    "            y='coords_y'\n",
    "        )\n",
    "print(movingpandas)"
   ],
   "metadata": {
    "collapsed": false
   },
   "id": "ef4c03fe52629b47",
   "execution_count": null
  },
  {
   "cell_type": "code",
   "outputs": [],
   "source": [
    "movingpandas.get_column_names()"
   ],
   "metadata": {
    "collapsed": false
   },
   "id": "80710d083b1b6015",
   "execution_count": null
  },
  {
   "cell_type": "markdown",
   "source": [
    "# Step 2: write result\n",
    "1. write `movingpandas` to `pickle` file"
   ],
   "metadata": {
    "collapsed": false
   },
   "id": "490e8c0bf45c8764"
  },
  {
   "cell_type": "code",
   "outputs": [],
   "source": [
    "pd.to_pickle(movingpandas, \"result-notebook.pickle\")"
   ],
   "metadata": {
    "collapsed": false
   },
   "id": "ccd76933cb3cb7",
   "execution_count": null
  },
  {
   "cell_type": "code",
   "outputs": [],
   "source": [],
   "metadata": {
    "collapsed": false
   },
   "id": "8ff1ef81d7eadaaa"
  }
 ],
 "metadata": {
  "kernelspec": {
   "display_name": "Python 3",
   "language": "python",
   "name": "python3"
  },
  "language_info": {
   "codemirror_mode": {
    "name": "ipython",
    "version": 2
   },
   "file_extension": ".py",
   "mimetype": "text/x-python",
   "name": "python",
   "nbconvert_exporter": "python",
   "pygments_lexer": "ipython2",
   "version": "2.7.6"
  }
 },
 "nbformat": 4,
 "nbformat_minor": 5
}
