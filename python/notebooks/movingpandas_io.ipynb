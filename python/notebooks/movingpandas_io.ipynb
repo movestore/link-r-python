{
 "cells": [
  {
   "cell_type": "code",
   "execution_count": 11,
   "metadata": {
    "collapsed": true
   },
   "outputs": [],
   "source": [
    "import pandas as pd\n",
    "import geopandas as gpd\n",
    "import movingpandas as mpd\n",
    "import pickle"
   ]
  },
  {
   "cell_type": "code",
   "execution_count": 18,
   "outputs": [
    {
     "data": {
      "text/plain": "    event.id           timestamp  location.long  location.lat  \\\n0  566120615 2013-08-08 06:47:31      48.761833     69.128117   \n1  566120616 2013-08-08 07:49:34      48.775300     69.135267   \n2  566120617 2013-08-08 08:20:35      48.758833     69.141817   \n3  566120618 2013-08-08 16:07:34      48.749483     69.142800   \n4  566120619 2013-08-08 17:09:22      48.733783     69.142700   \n5  566120620 2013-08-08 17:40:20      48.721767     69.142650   \n6  566120621 2013-08-09 01:24:51      48.722167     69.140367   \n7  566120622 2013-08-09 02:26:44      48.721167     69.139700   \n8  566120623 2013-08-09 02:57:33      48.723367     69.140617   \n\n   gps.satellite.count  ground.speed  heading  tag.voltage  gt.tx.count  \\\n0                    6          1.80     1.39         4.18          NaN   \n1                    6          4.51     1.35         4.21          NaN   \n2                    5          8.43     1.78         4.22          NaN   \n3                    4          0.30     1.45         4.17          NaN   \n4                    8          0.61     2.09         4.14          NaN   \n5                    6          0.00     1.52         4.12          NaN   \n6                    4          2.70     2.98         4.01          NaN   \n7                    4          0.00     1.26         3.97          NaN   \n8                    6          1.83     0.97         4.00          NaN   \n\n   coords.x1  ...  taxon.canonical.name          timestamp.start  \\\n0  48.761833  ...       Anser albifrons  2013-08-08 06:47:31.000   \n1  48.775300  ...       Anser albifrons  2013-08-08 06:47:31.000   \n2  48.758833  ...       Anser albifrons  2013-08-08 06:47:31.000   \n3  48.749483  ...       Anser albifrons  2013-08-08 06:47:31.000   \n4  48.733783  ...       Anser albifrons  2013-08-08 06:47:31.000   \n5  48.721767  ...       Anser albifrons  2013-08-08 06:47:31.000   \n6  48.722167  ...       Anser albifrons  2013-08-08 06:47:31.000   \n7  48.721167  ...       Anser albifrons  2013-08-08 06:47:31.000   \n8  48.723367  ...       Anser albifrons  2013-08-08 06:47:31.000   \n\n             timestamp.end number.of.events number.of.deployments  \\\n0  2015-02-19 13:42:27.000             3265                     1   \n1  2015-02-19 13:42:27.000             3265                     1   \n2  2015-02-19 13:42:27.000             3265                     1   \n3  2015-02-19 13:42:27.000             3265                     1   \n4  2015-02-19 13:42:27.000             3265                     1   \n5  2015-02-19 13:42:27.000             3265                     1   \n6  2015-02-19 13:42:27.000             3265                     1   \n7  2015-02-19 13:42:27.000             3265                     1   \n8  2015-02-19 13:42:27.000             3265                     1   \n\n   sensor.type.ids  taxon.detail    animalName  heading.1  \\\n0              gps           NaN  742_56853924        NaN   \n1              gps           NaN  742_56853924        NaN   \n2              gps           NaN  742_56853924        NaN   \n3              gps           NaN  742_56853924        NaN   \n4              gps           NaN  742_56853924        NaN   \n5              gps           NaN  742_56853924        NaN   \n6              gps           NaN  742_56853924        NaN   \n7              gps           NaN  742_56853924        NaN   \n8              gps           NaN  742_56853924        NaN   \n\n               timestamp_tz  \n0 2013-08-08 06:47:31+02:30  \n1 2013-08-08 07:49:34+02:30  \n2 2013-08-08 08:20:35+02:30  \n3 2013-08-08 16:07:34+02:30  \n4 2013-08-08 17:09:22+02:30  \n5 2013-08-08 17:40:20+02:30  \n6 2013-08-09 01:24:51+02:30  \n7 2013-08-09 02:26:44+02:30  \n8 2013-08-09 02:57:33+02:30  \n\n[9 rows x 64 columns]",
      "text/html": "<div>\n<style scoped>\n    .dataframe tbody tr th:only-of-type {\n        vertical-align: middle;\n    }\n\n    .dataframe tbody tr th {\n        vertical-align: top;\n    }\n\n    .dataframe thead th {\n        text-align: right;\n    }\n</style>\n<table border=\"1\" class=\"dataframe\">\n  <thead>\n    <tr style=\"text-align: right;\">\n      <th></th>\n      <th>event.id</th>\n      <th>timestamp</th>\n      <th>location.long</th>\n      <th>location.lat</th>\n      <th>gps.satellite.count</th>\n      <th>ground.speed</th>\n      <th>heading</th>\n      <th>tag.voltage</th>\n      <th>gt.tx.count</th>\n      <th>coords.x1</th>\n      <th>...</th>\n      <th>taxon.canonical.name</th>\n      <th>timestamp.start</th>\n      <th>timestamp.end</th>\n      <th>number.of.events</th>\n      <th>number.of.deployments</th>\n      <th>sensor.type.ids</th>\n      <th>taxon.detail</th>\n      <th>animalName</th>\n      <th>heading.1</th>\n      <th>timestamp_tz</th>\n    </tr>\n  </thead>\n  <tbody>\n    <tr>\n      <th>0</th>\n      <td>566120615</td>\n      <td>2013-08-08 06:47:31</td>\n      <td>48.761833</td>\n      <td>69.128117</td>\n      <td>6</td>\n      <td>1.80</td>\n      <td>1.39</td>\n      <td>4.18</td>\n      <td>NaN</td>\n      <td>48.761833</td>\n      <td>...</td>\n      <td>Anser albifrons</td>\n      <td>2013-08-08 06:47:31.000</td>\n      <td>2015-02-19 13:42:27.000</td>\n      <td>3265</td>\n      <td>1</td>\n      <td>gps</td>\n      <td>NaN</td>\n      <td>742_56853924</td>\n      <td>NaN</td>\n      <td>2013-08-08 06:47:31+02:30</td>\n    </tr>\n    <tr>\n      <th>1</th>\n      <td>566120616</td>\n      <td>2013-08-08 07:49:34</td>\n      <td>48.775300</td>\n      <td>69.135267</td>\n      <td>6</td>\n      <td>4.51</td>\n      <td>1.35</td>\n      <td>4.21</td>\n      <td>NaN</td>\n      <td>48.775300</td>\n      <td>...</td>\n      <td>Anser albifrons</td>\n      <td>2013-08-08 06:47:31.000</td>\n      <td>2015-02-19 13:42:27.000</td>\n      <td>3265</td>\n      <td>1</td>\n      <td>gps</td>\n      <td>NaN</td>\n      <td>742_56853924</td>\n      <td>NaN</td>\n      <td>2013-08-08 07:49:34+02:30</td>\n    </tr>\n    <tr>\n      <th>2</th>\n      <td>566120617</td>\n      <td>2013-08-08 08:20:35</td>\n      <td>48.758833</td>\n      <td>69.141817</td>\n      <td>5</td>\n      <td>8.43</td>\n      <td>1.78</td>\n      <td>4.22</td>\n      <td>NaN</td>\n      <td>48.758833</td>\n      <td>...</td>\n      <td>Anser albifrons</td>\n      <td>2013-08-08 06:47:31.000</td>\n      <td>2015-02-19 13:42:27.000</td>\n      <td>3265</td>\n      <td>1</td>\n      <td>gps</td>\n      <td>NaN</td>\n      <td>742_56853924</td>\n      <td>NaN</td>\n      <td>2013-08-08 08:20:35+02:30</td>\n    </tr>\n    <tr>\n      <th>3</th>\n      <td>566120618</td>\n      <td>2013-08-08 16:07:34</td>\n      <td>48.749483</td>\n      <td>69.142800</td>\n      <td>4</td>\n      <td>0.30</td>\n      <td>1.45</td>\n      <td>4.17</td>\n      <td>NaN</td>\n      <td>48.749483</td>\n      <td>...</td>\n      <td>Anser albifrons</td>\n      <td>2013-08-08 06:47:31.000</td>\n      <td>2015-02-19 13:42:27.000</td>\n      <td>3265</td>\n      <td>1</td>\n      <td>gps</td>\n      <td>NaN</td>\n      <td>742_56853924</td>\n      <td>NaN</td>\n      <td>2013-08-08 16:07:34+02:30</td>\n    </tr>\n    <tr>\n      <th>4</th>\n      <td>566120619</td>\n      <td>2013-08-08 17:09:22</td>\n      <td>48.733783</td>\n      <td>69.142700</td>\n      <td>8</td>\n      <td>0.61</td>\n      <td>2.09</td>\n      <td>4.14</td>\n      <td>NaN</td>\n      <td>48.733783</td>\n      <td>...</td>\n      <td>Anser albifrons</td>\n      <td>2013-08-08 06:47:31.000</td>\n      <td>2015-02-19 13:42:27.000</td>\n      <td>3265</td>\n      <td>1</td>\n      <td>gps</td>\n      <td>NaN</td>\n      <td>742_56853924</td>\n      <td>NaN</td>\n      <td>2013-08-08 17:09:22+02:30</td>\n    </tr>\n    <tr>\n      <th>5</th>\n      <td>566120620</td>\n      <td>2013-08-08 17:40:20</td>\n      <td>48.721767</td>\n      <td>69.142650</td>\n      <td>6</td>\n      <td>0.00</td>\n      <td>1.52</td>\n      <td>4.12</td>\n      <td>NaN</td>\n      <td>48.721767</td>\n      <td>...</td>\n      <td>Anser albifrons</td>\n      <td>2013-08-08 06:47:31.000</td>\n      <td>2015-02-19 13:42:27.000</td>\n      <td>3265</td>\n      <td>1</td>\n      <td>gps</td>\n      <td>NaN</td>\n      <td>742_56853924</td>\n      <td>NaN</td>\n      <td>2013-08-08 17:40:20+02:30</td>\n    </tr>\n    <tr>\n      <th>6</th>\n      <td>566120621</td>\n      <td>2013-08-09 01:24:51</td>\n      <td>48.722167</td>\n      <td>69.140367</td>\n      <td>4</td>\n      <td>2.70</td>\n      <td>2.98</td>\n      <td>4.01</td>\n      <td>NaN</td>\n      <td>48.722167</td>\n      <td>...</td>\n      <td>Anser albifrons</td>\n      <td>2013-08-08 06:47:31.000</td>\n      <td>2015-02-19 13:42:27.000</td>\n      <td>3265</td>\n      <td>1</td>\n      <td>gps</td>\n      <td>NaN</td>\n      <td>742_56853924</td>\n      <td>NaN</td>\n      <td>2013-08-09 01:24:51+02:30</td>\n    </tr>\n    <tr>\n      <th>7</th>\n      <td>566120622</td>\n      <td>2013-08-09 02:26:44</td>\n      <td>48.721167</td>\n      <td>69.139700</td>\n      <td>4</td>\n      <td>0.00</td>\n      <td>1.26</td>\n      <td>3.97</td>\n      <td>NaN</td>\n      <td>48.721167</td>\n      <td>...</td>\n      <td>Anser albifrons</td>\n      <td>2013-08-08 06:47:31.000</td>\n      <td>2015-02-19 13:42:27.000</td>\n      <td>3265</td>\n      <td>1</td>\n      <td>gps</td>\n      <td>NaN</td>\n      <td>742_56853924</td>\n      <td>NaN</td>\n      <td>2013-08-09 02:26:44+02:30</td>\n    </tr>\n    <tr>\n      <th>8</th>\n      <td>566120623</td>\n      <td>2013-08-09 02:57:33</td>\n      <td>48.723367</td>\n      <td>69.140617</td>\n      <td>6</td>\n      <td>1.83</td>\n      <td>0.97</td>\n      <td>4.00</td>\n      <td>NaN</td>\n      <td>48.723367</td>\n      <td>...</td>\n      <td>Anser albifrons</td>\n      <td>2013-08-08 06:47:31.000</td>\n      <td>2015-02-19 13:42:27.000</td>\n      <td>3265</td>\n      <td>1</td>\n      <td>gps</td>\n      <td>NaN</td>\n      <td>742_56853924</td>\n      <td>NaN</td>\n      <td>2013-08-09 02:57:33+02:30</td>\n    </tr>\n  </tbody>\n</table>\n<p>9 rows × 64 columns</p>\n</div>"
     },
     "execution_count": 18,
     "metadata": {},
     "output_type": "execute_result"
    }
   ],
   "source": [
    "pandas = pd.read_csv('../sample/buffer.csv',parse_dates=['timestamp'])\n",
    "# see `../sample/meta.csv\"\n",
    "projection = \"+proj=longlat +datum=WGS84 +no_defs\"\n",
    "timezone = \"+02:30\"\n",
    "pandas['timestamp_tz'] = pandas['timestamp'].apply(lambda x: x.tz_localize(timezone))\n",
    "\n",
    "timestamps = pandas[[\"timestamp\", \"timestamp_tz\"]]\n",
    "timestamps.head()\n",
    "pandas"
   ],
   "metadata": {
    "collapsed": false
   }
  },
  {
   "cell_type": "code",
   "execution_count": 19,
   "outputs": [
    {
     "name": "stderr",
     "output_type": "stream",
     "text": [
      "/Users/clemens/mambaforge/envs/link-r-python/lib/python3.9/site-packages/movingpandas/trajectory_collection.py:155: FutureWarning: In a future version of pandas, a length 1 tuple will be returned when iterating over a groupby with a grouper equal to a list of length 1. Don't supply a list with a single grouper to avoid this warning.\n",
      "  for traj_id, values in df.groupby([traj_id_col]):\n"
     ]
    },
    {
     "data": {
      "text/plain": "TrajectoryCollection with 1 trajectories"
     },
     "execution_count": 19,
     "metadata": {},
     "output_type": "execute_result"
    }
   ],
   "source": [
    "movingpandas = mpd.TrajectoryCollection(\n",
    "            pandas,\n",
    "            traj_id_col='individual.id',\n",
    "            crs=projection,\n",
    "            t='timestamp_tz',  # use our converted timezone column\n",
    "            x='location.long',\n",
    "            y='location.lat'\n",
    "        )\n",
    "movingpandas"
   ],
   "metadata": {
    "collapsed": false
   }
  },
  {
   "cell_type": "code",
   "execution_count": 20,
   "outputs": [
    {
     "ename": "TypeError",
     "evalue": "'TrajectoryCollection' object is not subscriptable",
     "output_type": "error",
     "traceback": [
      "\u001B[0;31m---------------------------------------------------------------------------\u001B[0m",
      "\u001B[0;31mTypeError\u001B[0m                                 Traceback (most recent call last)",
      "Cell \u001B[0;32mIn[20], line 3\u001B[0m\n\u001B[1;32m      1\u001B[0m \u001B[38;5;66;03m# Let's see how many individuals we have in the dataset:\u001B[39;00m\n\u001B[1;32m      2\u001B[0m \u001B[38;5;66;03m# kudos: https://github.com/anitagraser/movingpandas-examples/blob/main/2-analysis-examples/bird-migration.ipynb\u001B[39;00m\n\u001B[0;32m----> 3\u001B[0m \u001B[43mmovingpandas\u001B[49m\u001B[43m[\u001B[49m\u001B[38;5;124;43m\"\u001B[39;49m\u001B[38;5;124;43minidividual.id\u001B[39;49m\u001B[38;5;124;43m\"\u001B[39;49m\u001B[43m]\u001B[49m\u001B[38;5;241m.\u001B[39munique()\n",
      "\u001B[0;31mTypeError\u001B[0m: 'TrajectoryCollection' object is not subscriptable"
     ]
    }
   ],
   "source": [
    "movingpandas.to\n",
    "# Let's see how many individuals we have in the dataset:\n",
    "# kudos: https://github.com/anitagraser/movingpandas-examples/blob/main/2-analysis-examples/bird-migration.ipynb\n",
    "movingpandas[\"inidividual.id\"].unique()"
   ],
   "metadata": {
    "collapsed": false
   }
  },
  {
   "cell_type": "code",
   "execution_count": 14,
   "outputs": [],
   "source": [
    "pickle.dump(movingpandas, open('./movingpandas.pickle', 'wb'))"
   ],
   "metadata": {
    "collapsed": false
   }
  },
  {
   "cell_type": "code",
   "execution_count": null,
   "outputs": [],
   "source": [],
   "metadata": {
    "collapsed": false
   }
  }
 ],
 "metadata": {
  "kernelspec": {
   "display_name": "Python 3",
   "language": "python",
   "name": "python3"
  },
  "language_info": {
   "codemirror_mode": {
    "name": "ipython",
    "version": 2
   },
   "file_extension": ".py",
   "mimetype": "text/x-python",
   "name": "python",
   "nbconvert_exporter": "python",
   "pygments_lexer": "ipython2",
   "version": "2.7.6"
  }
 },
 "nbformat": 4,
 "nbformat_minor": 0
}
