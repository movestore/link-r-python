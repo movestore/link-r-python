{
 "cells": [
  {
   "cell_type": "code",
   "execution_count": null,
   "metadata": {
    "collapsed": true
   },
   "outputs": [],
   "source": [
    "import pandas as pd\n",
    "import geopandas as gpd\n",
    "import movingpandas as mpd\n",
    "import pickle\n",
    "import hvplot.pandas\n",
    "import matplotlib.pyplot as plt"
   ]
  },
  {
   "cell_type": "code",
   "execution_count": null,
   "outputs": [],
   "source": [
    "pandas = pd.read_csv('../sample/buffer_2-animals.csv',parse_dates=['timestamp'])\n",
    "# see `../sample/meta.csv\"\n",
    "projection = \"+proj=longlat +datum=WGS84 +no_defs\"\n",
    "timezone = \"Africa/Dar_es_Salaam\"\n",
    "pandas['timestamp_tz'] = pandas['timestamp'].apply(lambda x: x.tz_localize(timezone))\n",
    "\n",
    "timestamps = pandas[[\"timestamp\", \"timestamp_tz\"]]\n",
    "# timestamps.head()\n",
    "pandas"
   ],
   "metadata": {
    "collapsed": false
   }
  },
  {
   "cell_type": "code",
   "execution_count": null,
   "outputs": [],
   "source": [
    "movingpandas = mpd.TrajectoryCollection(\n",
    "            pandas,\n",
    "            traj_id_col='individual.local.identifier',\n",
    "            crs=projection,\n",
    "            t='timestamp_tz',  # use our converted timezone column\n",
    "            x='location.long',\n",
    "            y='location.lat'\n",
    "        )\n",
    "movingpandas.hvplot()"
   ],
   "metadata": {
    "collapsed": false
   }
  },
  {
   "cell_type": "code",
   "execution_count": null,
   "outputs": [],
   "source": [
    "geopandas = movingpandas.to_traj_gdf()\n",
    "geopandas"
   ],
   "metadata": {
    "collapsed": false
   }
  },
  {
   "cell_type": "code",
   "execution_count": null,
   "outputs": [],
   "source": [
    "geopandas_lines = movingpandas.to_line_gdf()\n",
    "geopandas_lines"
   ],
   "metadata": {
    "collapsed": false
   }
  },
  {
   "cell_type": "code",
   "execution_count": null,
   "outputs": [],
   "source": [
    "geopandas_point = movingpandas.to_point_gdf()\n",
    "geopandas_point"
   ],
   "metadata": {
    "collapsed": false
   }
  },
  {
   "cell_type": "code",
   "execution_count": null,
   "outputs": [],
   "source": [
    "geopandas.hvplot()"
   ],
   "metadata": {
    "collapsed": false
   }
  },
  {
   "cell_type": "code",
   "execution_count": null,
   "outputs": [],
   "source": [
    "pickle.dump(geopandas, open('./geopandas.pickle', 'wb'))\n",
    "geopandas_loaded = pickle.load(open('./geopandas.pickle', 'rb'))\n",
    "geopandas_loaded"
   ],
   "metadata": {
    "collapsed": false
   }
  },
  {
   "cell_type": "code",
   "execution_count": null,
   "outputs": [],
   "source": [
    "pickle.dump(movingpandas, open('./movingpandas.pickle', 'wb'))\n",
    "movingpandas_loaded = pickle.load(open('./movingpandas.pickle', 'rb'))\n",
    "movingpandas_loaded"
   ],
   "metadata": {
    "collapsed": false
   }
  },
  {
   "cell_type": "code",
   "execution_count": null,
   "outputs": [],
   "source": [
    "movingpandas_loaded.hvplot()"
   ],
   "metadata": {
    "collapsed": false
   }
  },
  {
   "cell_type": "code",
   "execution_count": null,
   "outputs": [],
   "source": [
    "geopandas_loaded.hvplot()"
   ],
   "metadata": {
    "collapsed": false
   }
  },
  {
   "cell_type": "code",
   "execution_count": null,
   "outputs": [],
   "source": [],
   "metadata": {
    "collapsed": false
   }
  }
 ],
 "metadata": {
  "kernelspec": {
   "display_name": "Python 3",
   "language": "python",
   "name": "python3"
  },
  "language_info": {
   "codemirror_mode": {
    "name": "ipython",
    "version": 2
   },
   "file_extension": ".py",
   "mimetype": "text/x-python",
   "name": "python",
   "nbconvert_exporter": "python",
   "pygments_lexer": "ipython2",
   "version": "2.7.6"
  }
 },
 "nbformat": 4,
 "nbformat_minor": 0
}
