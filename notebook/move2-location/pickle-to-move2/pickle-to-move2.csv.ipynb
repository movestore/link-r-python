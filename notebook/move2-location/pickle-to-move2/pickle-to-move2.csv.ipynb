{
 "cells": [
  {
   "cell_type": "markdown",
   "source": [
    "# move2 movingpandas pickle to CSV\n",
    "\n",
    "This is a step-by-step walkthrough of `transform_to_csv.py` (`move2`)"
   ],
   "metadata": {
    "collapsed": false
   },
   "id": "ac8aaa5a58b13c4a"
  },
  {
   "cell_type": "code",
   "execution_count": null,
   "id": "initial_id",
   "metadata": {
    "collapsed": true
   },
   "outputs": [],
   "source": [
    "import pandas as pd\n",
    "import geopandas as gpd\n",
    "import movingpandas as mpd\n",
    "from pyproj import CRS"
   ]
  },
  {
   "cell_type": "markdown",
   "source": [
    "# Step 0: read input\n",
    "1. read `pickle` by `pandas` (it's a `movingpandas`)"
   ],
   "metadata": {
    "collapsed": false
   },
   "id": "84a0ccc794108ef"
  },
  {
   "cell_type": "code",
   "outputs": [],
   "source": [
    "movingpandas = pd.read_pickle(\"input.pickle\")\n",
    "movingpandas.get_column_names()"
   ],
   "metadata": {
    "collapsed": false
   },
   "id": "575ab8701f69ed86",
   "execution_count": null
  },
  {
   "cell_type": "code",
   "outputs": [],
   "source": [
    "movingpandas.get_traj_id_col()"
   ],
   "metadata": {
    "collapsed": false
   },
   "id": "b442e97e49865b4",
   "execution_count": null
  },
  {
   "cell_type": "code",
   "outputs": [],
   "source": [
    "movingpandas.get_geom_col()"
   ],
   "metadata": {
    "collapsed": false
   },
   "id": "39c3ab75be40b332",
   "execution_count": null
  },
  {
   "cell_type": "markdown",
   "source": [
    "# Step 1: convert to geopandas\n",
    "1. convert `movingpandas` to `geopandas`\n",
    "2. add `cooridnates` columns"
   ],
   "metadata": {
    "collapsed": false
   },
   "id": "3070b342d18a8089"
  },
  {
   "cell_type": "code",
   "outputs": [],
   "source": [
    "geopandas = movingpandas.to_point_gdf()\n",
    "geopandas['coords_x'] = geopandas[movingpandas.get_geom_col()].apply(lambda p: p.x)\n",
    "geopandas['coords_y'] = geopandas[movingpandas.get_geom_col()].apply(lambda p: p.y)\n",
    "\n",
    "print(geopandas.info())"
   ],
   "metadata": {
    "collapsed": false
   },
   "id": "859c865fab7cee6d",
   "execution_count": null
  },
  {
   "cell_type": "code",
   "outputs": [],
   "source": [
    "geopandas[movingpandas.get_geom_col()]"
   ],
   "metadata": {
    "collapsed": false
   },
   "id": "f96df4ba06390848",
   "execution_count": null
  },
  {
   "cell_type": "code",
   "outputs": [],
   "source": [
    "geopandas.index.name"
   ],
   "metadata": {
    "collapsed": false
   },
   "id": "5fe4dad0949ed14d",
   "execution_count": null
  },
  {
   "cell_type": "markdown",
   "source": [
    "# Step 2: write result"
   ],
   "metadata": {
    "collapsed": false
   },
   "id": "778e8801e39e8fdc"
  },
  {
   "cell_type": "code",
   "outputs": [],
   "source": [
    "geopandas.to_csv(\"link-notebook.csv\", index=True)"
   ],
   "metadata": {
    "collapsed": false
   },
   "id": "aab4077056a48740",
   "execution_count": null
  },
  {
   "cell_type": "markdown",
   "source": [
    "# Step 3: write meta"
   ],
   "metadata": {
    "collapsed": false
   },
   "id": "2fc8ab0c1377d514"
  },
  {
   "cell_type": "code",
   "outputs": [],
   "source": [
    "projection = geopandas.crs\n",
    "tzone = geopandas.index.tz\n",
    "time_col_name = geopandas.index.name\n",
    "track_id_col_name = movingpandas.get_traj_id_col()\n",
    "\n",
    "meta = {\n",
    "    \"crs\": [projection.srs],\n",
    "    \"tzone\": [tzone],\n",
    "    \"timeColName\": [time_col_name],\n",
    "    \"trackIdColName\": [track_id_col_name]\n",
    "}\n",
    "meta = pd.DataFrame(meta)\n",
    "meta.to_csv(\"meta-notebook.csv\", index=False)\n",
    "print(meta)"
   ],
   "metadata": {
    "collapsed": false
   },
   "id": "276bf2d82fd8b550",
   "execution_count": null
  },
  {
   "cell_type": "code",
   "outputs": [],
   "source": [],
   "metadata": {
    "collapsed": false
   },
   "id": "773c4c54047bf8ff",
   "execution_count": null
  }
 ],
 "metadata": {
  "kernelspec": {
   "display_name": "Python 3",
   "language": "python",
   "name": "python3"
  },
  "language_info": {
   "codemirror_mode": {
    "name": "ipython",
    "version": 2
   },
   "file_extension": ".py",
   "mimetype": "text/x-python",
   "name": "python",
   "nbconvert_exporter": "python",
   "pygments_lexer": "ipython2",
   "version": "2.7.6"
  }
 },
 "nbformat": 4,
 "nbformat_minor": 5
}
